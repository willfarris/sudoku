{
 "cells": [
  {
   "cell_type": "markdown",
   "metadata": {},
   "source": [
    "# How to create a Sudoku puzzle in Python\n",
    "\n",
    "From Stack Overflow: https://stackoverflow.com/questions/45471152/how-to-create-a-sudoku-puzzle-in-python\n",
    "\n",
    "\n",
    "\n",
    "\n",
    "You can generate a random sudoku solution board where all numbers are filled in and then remove some of them to create the puzzle. This will ensure that the puzzle always has a solution. Making sure that it has exactly one solution is a bit more challenging (hint: you must leave at least 17 numbers for a 9x9 sudoku)\n",
    "\n",
    "The algorithm below will generate a NxN random sudoku solution board instantly for N < 1000. You can then remove some of the numbers from the sudoku solution to create the puzzle."
   ]
  },
  {
   "cell_type": "code",
   "execution_count": 1,
   "metadata": {},
   "outputs": [],
   "source": [
    "# from https://stackoverflow.com/questions/45471152/how-to-create-a-sudoku-puzzle-in-python\n",
    "def gen_board(base):\n",
    "    side = base*base\n",
    "    # pattern for a baseline valid solution\n",
    "    def pattern(r,c): return (base*(r%base)+r//base+c)%side\n",
    "\n",
    "    # randomize rows, columns and numbers (of valid base pattern)\n",
    "    from random import sample\n",
    "    def shuffle(s): return sample(s,len(s)) \n",
    "    rBase = range(base) \n",
    "    rows  = [ g*base + r for g in shuffle(rBase) for r in shuffle(rBase) ] \n",
    "    cols  = [ g*base + c for g in shuffle(rBase) for c in shuffle(rBase) ]\n",
    "    nums  = shuffle(range(1,base*base+1))\n",
    "\n",
    "    # produce board using randomized baseline pattern\n",
    "    board = [ [nums[pattern(r,c)] for c in cols] for r in rows ]\n",
    "\n",
    "    squares = side*side\n",
    "    empties = squares * 3//4\n",
    "    for p in sample(range(squares),empties):\n",
    "        board[p//side][p%side] = 0\n",
    "    return board"
   ]
  },
  {
   "cell_type": "markdown",
   "metadata": {},
   "source": [
    "For 4x4 up to 36x36 puzzles, you could make a nicer print of the board like this:"
   ]
  },
  {
   "cell_type": "code",
   "execution_count": 2,
   "metadata": {},
   "outputs": [],
   "source": [
    "def print_board(board, base):\n",
    "    side = base*base\n",
    "    def expandLine(line):\n",
    "        return line[0]+line[5:9].join([line[1:5]*(base-1)]*base)+line[9:13]\n",
    "    line0  = expandLine(\"╔═══╤═══╦═══╗\")\n",
    "    line1  = expandLine(\"║ . │ . ║ . ║\")\n",
    "    line2  = expandLine(\"╟───┼───╫───╢\")\n",
    "    line3  = expandLine(\"╠═══╪═══╬═══╣\")\n",
    "    line4  = expandLine(\"╚═══╧═══╩═══╝\")\n",
    "\n",
    "    symbol = \" 1234567890ABCDEFGHIJKLMNOPQRSTUVWXYZ\"\n",
    "\n",
    "    nums   = [ [\"\"]+[symbol[n] for n in row] for row in board ]\n",
    "    print(line0)\n",
    "    for r in range(1,side+1):\n",
    "        print( \"\".join(n+s for n,s in zip(nums[r-1],line1.split(\".\"))) )\n",
    "        print([line2,line3,line4][(r%side==0)+(r%base==0)])"
   ]
  },
  {
   "cell_type": "code",
   "execution_count": 41,
   "metadata": {},
   "outputs": [
    {
     "name": "stdout",
     "output_type": "stream",
     "text": [
      "╔═══╤═══╤═══╦═══╤═══╤═══╦═══╤═══╤═══╗\n",
      "║   │ 5 │   ║   │   │ 7 ║   │   │   ║\n",
      "╟───┼───┼───╫───┼───┼───╫───┼───┼───╢\n",
      "║   │ 7 │ 9 ║   │   │   ║   │   │   ║\n",
      "╟───┼───┼───╫───┼───┼───╫───┼───┼───╢\n",
      "║   │   │ 3 ║ 1 │   │ 5 ║   │ 7 │ 9 ║\n",
      "╠═══╪═══╪═══╬═══╪═══╪═══╬═══╪═══╪═══╣\n",
      "║   │   │ 6 ║   │   │   ║   │   │   ║\n",
      "╟───┼───┼───╫───┼───┼───╫───┼───┼───╢\n",
      "║   │ 3 │   ║   │ 5 │ 1 ║   │ 9 │   ║\n",
      "╟───┼───┼───╫───┼───┼───╫───┼───┼───╢\n",
      "║   │   │   ║   │   │   ║   │   │   ║\n",
      "╠═══╪═══╪═══╬═══╪═══╪═══╬═══╪═══╪═══╣\n",
      "║   │ 6 │   ║ 7 │   │ 2 ║   │   │ 4 ║\n",
      "╟───┼───┼───╫───┼───┼───╫───┼───┼───╢\n",
      "║   │   │ 4 ║   │   │   ║   │   │ 7 ║\n",
      "╟───┼───┼───╫───┼───┼───╫───┼───┼───╢\n",
      "║   │   │   ║   │   │ 8 ║   │   │   ║\n",
      "╚═══╧═══╧═══╩═══╧═══╧═══╩═══╧═══╧═══╝\n"
     ]
    }
   ],
   "source": [
    "b = gen_board(3)\n",
    "print_board(b, 3)"
   ]
  }
 ],
 "metadata": {
  "kernelspec": {
   "display_name": "Python 3 (ipykernel)",
   "language": "python",
   "name": "python3"
  },
  "language_info": {
   "codemirror_mode": {
    "name": "ipython",
    "version": 3
   },
   "file_extension": ".py",
   "mimetype": "text/x-python",
   "name": "python",
   "nbconvert_exporter": "python",
   "pygments_lexer": "ipython3",
   "version": "3.11.2"
  }
 },
 "nbformat": 4,
 "nbformat_minor": 4
}
